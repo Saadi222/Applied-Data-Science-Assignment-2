{
 "cells": [
  {
   "cell_type": "code",
   "execution_count": null,
   "id": "659e22d3",
   "metadata": {},
   "outputs": [],
   "source": [
    "# importing the required libraries\n",
    "import matplotlib.pyplot as plt\n",
    "import numpy as np\n",
    "import pandas as pd\n",
    "import scipy.stats as ss\n",
    "import seaborn as sns\n",
    "from scipy import stats\n",
    "from scipy.optimize import curve_fit\n",
    "from matplotlib.colors import ListedColormap\n",
    "from numpy.polynomial import Polynomial as Poly\n",
    "from sklearn.cluster import KMeans\n",
    "from sklearn.datasets import make_blobs\n",
    "from sklearn.metrics import silhouette_score\n",
    "from sklearn.preprocessing import MinMaxScaler"
   ]
  },
  {
   "cell_type": "code",
   "execution_count": null,
   "id": "c84a6dfe",
   "metadata": {},
   "outputs": [],
   "source": [
    "# Loading dataset using pandas \n",
    "df = pd.read_csv('Sleep_health_and_lifestyle_dataset.csv', index_col = 'Person ID')\n",
    "df.head()"
   ]
  },
  {
   "cell_type": "code",
   "execution_count": null,
   "id": "293fe5b5",
   "metadata": {},
   "outputs": [],
   "source": [
    "# Number of rows and columns of dataset\n",
    "df.shape"
   ]
  },
  {
   "cell_type": "code",
   "execution_count": null,
   "id": "395684b8",
   "metadata": {},
   "outputs": [],
   "source": [
    "# Some basic statistics\n",
    "df.describe()"
   ]
  },
  {
   "cell_type": "code",
   "execution_count": null,
   "id": "b1310a81",
   "metadata": {},
   "outputs": [],
   "source": [
    "# checking for empty values\n",
    "df.isnull().sum()"
   ]
  },
  {
   "cell_type": "code",
   "execution_count": null,
   "id": "2b677742",
   "metadata": {},
   "outputs": [],
   "source": [
    "# Selecting Numeric columns\n",
    "numeric_df = df.select_dtypes(include = ['number'])\n",
    "numeric_df"
   ]
  },
  {
   "cell_type": "code",
   "execution_count": null,
   "id": "f5d996be",
   "metadata": {},
   "outputs": [],
   "source": [
    "# Showing basic statistics like mean, median, standard deviation etc\n",
    "def calculate_statistics(df):\n",
    "    major_moments = pd.DataFrame({\n",
    "        'Mean': df.mean(),\n",
    "        'Median': df.median(),\n",
    "        'Standard Deviation': df.std(),\n",
    "        'Skewness': df.apply(stats.skew),\n",
    "        'Kurtosis': df.apply(stats.kurtosis),\n",
    "    })\n",
    "    return major_moments"
   ]
  },
  {
   "cell_type": "code",
   "execution_count": null,
   "id": "dfbb5e6a",
   "metadata": {},
   "outputs": [],
   "source": [
    "stats = calculate_statistics(numeric_df)\n",
    "print(stats)"
   ]
  },
  {
   "cell_type": "code",
   "execution_count": null,
   "id": "8d78b3db",
   "metadata": {},
   "outputs": [],
   "source": [
    "# Sometimes code doesn't work because all cells work in parallel thats's why I included this library here\n",
    "from scipy import stats\n",
    "# Storing some basic statistics in variables\n",
    "age = df['Age']\n",
    "mean_age = df['Age'].mean()\n",
    "median_age = df['Age'].median()\n",
    "mode_age = df['Age'].mode()[0]\n",
    "skewness_age = stats.skew(df['Age'])\n",
    "kurtosis_age = stats.kurtosis(df['Age'])"
   ]
  },
  {
   "cell_type": "code",
   "execution_count": null,
   "id": "7e052525",
   "metadata": {},
   "outputs": [],
   "source": [
    "# Plotting Histogram\n",
    "def plot_hist(age):\n",
    "    \"\"\"\n",
    "    Creates a histogram of the given 'age' data, with vertical lines showing the mean, \n",
    "    median, and mode, as well as text annotations for skewness and kurtosis.\n",
    "    \"\"\"\n",
    "    plt.figure(dpi = 144, figsize = (6, 4))\n",
    "    plt.hist(age, bins=10, color = 'yellow', edgecolor='black', alpha = 0.7)\n",
    "    # Plot mean, median, and mode as vertical lines\n",
    "    plt.axvline(mean_age, color='red', linestyle = '--', linewidth = 2, label=f'Mean: {mean_age:.2f}')\n",
    "    plt.axvline(median_age, color='green', linestyle='--', linewidth = 2, label = f'Median: {median_age:.2f}')\n",
    "    plt.axvline(mode_age, color = 'blue', linestyle = '--', linewidth = 2, label = f'Mode: {mode_age}')    \n",
    "    # Move skewness and kurtosis text to bottom right\n",
    "    plt.text(0.95, 0.05, f'Skewness: {skewness_age:.2f}', \n",
    "         transform = plt.gca().transAxes, ha = 'right', va = 'bottom', fontsize = 10, color = 'black')\n",
    "    plt.text(0.95, 0.10, f'Kurtosis: {kurtosis_age:.2f}', \n",
    "         transform = plt.gca().transAxes, ha = 'right', va = 'bottom', fontsize = 10, color = 'black')\n",
    "    # Add labels and title\n",
    "    plt.xlabel('Age')\n",
    "    plt.ylabel('Frequency')\n",
    "    plt.title('Age Distribution', fontsize = 10)\n",
    "    plt.legend()\n",
    "    plt.show()"
   ]
  },
  {
   "cell_type": "code",
   "execution_count": null,
   "id": "e9633149",
   "metadata": {},
   "outputs": [],
   "source": [
    "plot_hist(age)"
   ]
  },
  {
   "cell_type": "code",
   "execution_count": null,
   "id": "0c74407d",
   "metadata": {},
   "outputs": [],
   "source": [
    "def plot_bar(df):\n",
    "    \"\"\"\n",
    "    Plots a bar graph showing the count of each BMI category within each occupation.\n",
    "    \"\"\"\n",
    "    # Count occurrences of each BMI category within each occupation\n",
    "    plt.figure(dpi = 144)\n",
    "    count_data = df.groupby(['Occupation', 'BMI Category']).size().unstack(fill_value=0)   \n",
    "    # Plot a bar graph\n",
    "    count_data.plot(kind='bar', figsize=(10, 6), stacked=False)    \n",
    "    # Formatting the plot\n",
    "    plt.title('Count of BMI Categories by Occupation', fontsize=15)\n",
    "    plt.xlabel('Occupation', fontsize=14)\n",
    "    plt.ylabel('Count', fontsize=14)\n",
    "    plt.xticks(rotation=45, fontsize=12)\n",
    "    plt.legend(title='BMI Categories', fontsize=10)\n",
    "    plt.grid(axis='y', linestyle='--', alpha=0.7)    \n",
    "    # Show the plot\n",
    "    plt.tight_layout()\n",
    "    plt.show()"
   ]
  },
  {
   "cell_type": "code",
   "execution_count": null,
   "id": "348e2f46",
   "metadata": {},
   "outputs": [],
   "source": [
    "plot_bar(df)"
   ]
  },
  {
   "cell_type": "code",
   "execution_count": null,
   "id": "34714c13",
   "metadata": {},
   "outputs": [],
   "source": [
    "# Storing specific column values in variables\n",
    "sleep_duration = df['Sleep Duration']\n",
    "age = df['Age']"
   ]
  },
  {
   "cell_type": "code",
   "execution_count": null,
   "id": "7da4ef53",
   "metadata": {},
   "outputs": [],
   "source": [
    "# Function to plot scatter plot\n",
    "def sleep_duration_vs_age_scatter(sleep_duration, age):\n",
    "    \"\"\"\n",
    "    Creates a scatter plot of sleep duration against age.\n",
    "    \"\"\"\n",
    "    #Creates a line graph of sleep duration against age\n",
    "    plt.figure(dpi = 144, figsize = (10 ,6))  \n",
    "    plt.scatter(sleep_duration, age, alpha = 0.7, color = 'purple') \n",
    "    #Setting title and labels\n",
    "    plt.title('Sleep Duration vs Age', fontsize = 12)\n",
    "    plt.xlabel('Sleep Duration')  \n",
    "    plt.ylabel('Age') \n",
    "    plt.grid(True) \n",
    "    plt.tight_layout()  \n",
    "    plt.show()"
   ]
  },
  {
   "cell_type": "code",
   "execution_count": null,
   "id": "434a40ca",
   "metadata": {},
   "outputs": [],
   "source": [
    "sleep_duration_vs_age_scatter(sleep_duration, age)"
   ]
  },
  {
   "cell_type": "code",
   "execution_count": null,
   "id": "62e566ef",
   "metadata": {},
   "outputs": [],
   "source": [
    "# Plottting Heatmaps\n",
    "def plot_heatmap(numeric_df, method):\n",
    "    \"\"\"\n",
    "    Plots a heatmap of the correlation matrix for a DataFrame using the specified correlation method.\n",
    "    \"\"\"\n",
    "    fig, ax = plt.subplots(dpi = 144, figsize = (8, 4))\n",
    "    mask = np.triu(np.ones_like(numeric_df.corr()))\n",
    "    sns.heatmap(numeric_df.corr(method = method), ax = ax, vmin = -1, vmax = 1,\n",
    "                cmap = 'RdBu', annot = True, mask = mask)\n",
    "    # Rorating labels for readability\n",
    "    plt.xticks(rotation=45, ha='right')\n",
    "    # Setting title of heatmap\n",
    "    plt.title(f\" Heatmap Using {method.capitalize()} Correlation Matrix\", fontsize = 10)\n",
    "    plt.show()\n",
    "    return"
   ]
  },
  {
   "cell_type": "code",
   "execution_count": null,
   "id": "d2871b84",
   "metadata": {},
   "outputs": [],
   "source": [
    "plot_heatmap(numeric_df, 'pearson')"
   ]
  },
  {
   "cell_type": "code",
   "execution_count": null,
   "id": "3c1f6214",
   "metadata": {},
   "outputs": [],
   "source": [
    "#Plotting pairplot\n",
    "def plot_pairplot(numeric_df):\n",
    "    \"\"\"\n",
    "    Plots a pairplot for the given DataFrame to visualize pairwise relationships between numerical variables..\n",
    "    \"\"\"\n",
    "    sns.pairplot(numeric_df, corner=True)\n",
    "    plt.title(\"Pairplot of numeric featues\", fontsize = 10)\n",
    "    plt.show()"
   ]
  },
  {
   "cell_type": "code",
   "execution_count": null,
   "id": "313dbc58",
   "metadata": {},
   "outputs": [],
   "source": [
    "plot_pairplot(numeric_df)"
   ]
  },
  {
   "cell_type": "code",
   "execution_count": null,
   "id": "5d862b59",
   "metadata": {},
   "outputs": [],
   "source": [
    "# Linear function for fitting\n",
    "def linfunc(x, a, b):\n",
    "    \"\"\"Linear function: y = ax + b\"\"\"\n",
    "    return a * x + b"
   ]
  },
  {
   "cell_type": "code",
   "execution_count": null,
   "id": "1454560d",
   "metadata": {},
   "outputs": [],
   "source": [
    "# Extract x and y columns\n",
    "# Quality of Sleep column\n",
    "x = numeric_df['Quality of Sleep'] \n",
    "# Stress level column\n",
    "y = numeric_df['Stress Level'] "
   ]
  },
  {
   "cell_type": "code",
   "execution_count": null,
   "id": "f2e61911",
   "metadata": {},
   "outputs": [],
   "source": [
    "# Fit using scipy's curve_fit\n",
    "p, cov = curve_fit(linfunc, x, y)\n",
    "sigma = np.sqrt(np.diag(cov))\n",
    "print(f\"Scipy fit: a = {p[0]:.2f} +/- {sigma[0]:.2f}\")\n",
    "print(f\"b = {p[1]:.2f} +/- {sigma[1]:.2f}\")"
   ]
  },
  {
   "cell_type": "code",
   "execution_count": null,
   "id": "f5735d1e",
   "metadata": {},
   "outputs": [],
   "source": [
    "# Fit using numpy's Polynomial\n",
    "p_np = Poly.fit(x, y, 1)  # Degree 1\n",
    "cov_np = np.polyfit(x, y, 1, cov=True)[1]\n",
    "sigma_np = np.sqrt(np.diag(cov_np))\n",
    "b_np, a_np = p_np.convert().coef\n",
    "print(f\"NumPy fit: a = {a_np:.2f} ± {sigma_np[0]:.2f}, b = {b_np:.2f} ± {sigma_np[1]:.2f}\")"
   ]
  },
  {
   "cell_type": "code",
   "execution_count": null,
   "id": "1ac1e5a8",
   "metadata": {},
   "outputs": [],
   "source": [
    "# Performs Linear Fit\n",
    "def plot_random_scatter_with_fitted_line(x, y):\n",
    "    \"\"\"\n",
    "    Creates a scatter plot of random x and y data and linear fits onto the data\n",
    "    \"\"\"\n",
    "    plt.figure(figsize=(10, 5), dpi=144)\n",
    "    # scatter plot\n",
    "    plt.scatter(x,y,color='blue', label='Data')\n",
    "    x_pred = np.linspace(4, 9, 7)\n",
    "    # make some data for the fitted line, using scipy\n",
    "    xfit = np.linspace(np.min(x), np.max(x), 100)\n",
    "    # plotting line\n",
    "    plt.plot(xfit, linfunc(xfit, *p), 'r-', label=f'Scipy Fit: y = {p[0]:.2f}x + {p[1]:.2f}') \n",
    "\n",
    "    # see error margins as f(x) = ax + b\n",
    "    plt.fill_between(xfit, linfunc(xfit, p[0] - sigma[0], p[1] - sigma[1]),\n",
    "                     linfunc(xfit, p[0] + sigma[0], p[1] + sigma[1]), color='k', alpha=0.2, label='Scipy Error Margin')\n",
    "    y_pred = linfunc(x_pred, *p)\n",
    "    # Propagate error\n",
    "    y_err = np.sqrt((x_pred * sigma[0])**2 + sigma[1]**2)  \n",
    "\n",
    "    # Plot predicted points with error bars\n",
    "    plt.errorbar(x_pred, y_pred, yerr=y_err, fmt='go', label='Predictions (with errors)', capsize=5)\n",
    "    # formatting\n",
    "    plt.xlabel('Quality of Sleep')\n",
    "    plt.ylabel('Stress Level')\n",
    "    plt.legend(fontsize=9)\n",
    "    plt.title('Linear Fit with predictions', fontsize = 10)\n",
    "    plt.grid()\n",
    "    plt.show()\n",
    "    return"
   ]
  },
  {
   "cell_type": "code",
   "execution_count": null,
   "id": "37aa63be",
   "metadata": {},
   "outputs": [],
   "source": [
    "plot_random_scatter_with_fitted_line(x, y)"
   ]
  },
  {
   "cell_type": "code",
   "execution_count": null,
   "id": "e61dbcb7",
   "metadata": {},
   "outputs": [],
   "source": [
    "# Transform data\n",
    "df_cut = numeric_df[['Age', 'Sleep Duration']].copy()\n",
    "scaler = MinMaxScaler()\n",
    "norm = scaler.fit_transform(df_cut)\n",
    "inv_norm = scaler.inverse_transform(norm)"
   ]
  },
  {
   "cell_type": "code",
   "execution_count": null,
   "id": "bccfe294",
   "metadata": {},
   "outputs": [],
   "source": [
    "def one_silhoutte_inertia(n, xy):\n",
    "    \"\"\" \n",
    "    Calculates the silhoutte score and WCSS for n clusters \n",
    "    \"\"\"\n",
    "    # set up the clusterer with the number of expected clusters\n",
    "    kmeans = KMeans(n_clusters = n, n_init = 20)\n",
    "    # Fit the data\n",
    "    kmeans.fit(xy)\n",
    "    labels = kmeans.labels_   \n",
    "    # calculate the silhoutte score\n",
    "    score = silhouette_score(xy, labels)\n",
    "    inertia = kmeans.inertia_\n",
    "    return score, inertia"
   ]
  },
  {
   "cell_type": "code",
   "execution_count": null,
   "id": "37470c4c",
   "metadata": {},
   "outputs": [],
   "source": [
    "def plot_elbow_method(min_k, max_k, wcss, best_n):\n",
    "    \"\"\"\n",
    "    Plots the elbow method between min_k and max_k\n",
    "    \"\"\"\n",
    "    fig, ax = plt.subplots(figsize=(4,4), dpi=144)\n",
    "    ax.plot(range(min_k, max_k + 1), wcss, 'kx-')\n",
    "    ax.scatter(best_n, wcss[best_n-min_k], marker = 'o', color='red', facecolors = 'none', s = 50)\n",
    "    ax.set_xlabel('k')\n",
    "    ax.set_xlim(min_k, max_k)\n",
    "    ax.set_ylabel('WCSS')\n",
    "    plt.title(\"Elbow Method (best value for k)\", fontsize = 10)\n",
    "    plt.show()\n",
    "    return"
   ]
  },
  {
   "cell_type": "code",
   "execution_count": null,
   "id": "2f4cf410",
   "metadata": {},
   "outputs": [],
   "source": [
    "wcss = []\n",
    "best_n, best_score = None, -np.inf\n",
    "# 2 to 10 clusters\n",
    "for n in range(2, 11):  \n",
    "    score, inertia = one_silhoutte_inertia(n, norm)\n",
    "    wcss.append(inertia)\n",
    "    if score > best_score:\n",
    "        best_n = n\n",
    "        best_score = score\n",
    "    print(f\"{n:2g} clusters silhoutte score = {score:0.2f}\")\n",
    "\n",
    "print(f\"Best number of clusters = {best_n:2g}\")\n",
    "plot_elbow_method(2, 10, wcss, best_n)"
   ]
  },
  {
   "cell_type": "code",
   "execution_count": null,
   "id": "945fbe8f",
   "metadata": {},
   "outputs": [],
   "source": [
    "def plot_fitted_population_area(labels, xy, xkmeans, ykmeans, centre_labels):\n",
    "    \"\"\"\n",
    "    Plots clustered data as a scatter plot with determined centres shown\n",
    "    \"\"\"\n",
    "    colours = plt.cm.Set1(np.linspace(0, 1, len(np.unique(labels))))\n",
    "    cmap = ListedColormap(colours)\n",
    "    fig, ax = plt.subplots(figsize = (6,4), dpi = 144)\n",
    "    s = ax.scatter(xy[:, 0], xy[:, 1], c = labels, cmap = cmap, marker = 'o', label = 'Data')\n",
    "    ax.scatter(xkmeans, ykmeans, c = centre_labels, cmap = cmap, marker = 'x', s = 100, label = 'Estimated Centres')\n",
    "    cbar = fig.colorbar(s, ax = ax)\n",
    "    cbar.set_ticks(np.unique(labels))\n",
    "    ax.legend()\n",
    "    ax.set_xlabel('Age')\n",
    "    ax.set_ylabel('Sleep Duration')\n",
    "    plt.title(\"K-Means Clusters\", fontsize = 10)\n",
    "    plt.show()\n",
    "    return"
   ]
  },
  {
   "cell_type": "code",
   "execution_count": null,
   "id": "f03e0b9f",
   "metadata": {},
   "outputs": [],
   "source": [
    "# this is important for plotting data accurately\n",
    "inv_norm = scaler.inverse_transform(norm) \n",
    "kmeans = KMeans(n_clusters = best_n, n_init = 20)\n",
    "# fit done on x,y pairs\n",
    "kmeans.fit(norm)     \n",
    "labels = kmeans.labels_    \n",
    "# the estimated cluster centres\n",
    "cen = scaler.inverse_transform(kmeans.cluster_centers_)\n",
    "xkmeans = cen[:, 0]\n",
    "ykmeans = cen[:, 1]\n",
    "cenlabels = kmeans.predict(kmeans.cluster_centers_)\n",
    "plot_fitted_population_area(labels, inv_norm, xkmeans, ykmeans, cenlabels)"
   ]
  },
  {
   "cell_type": "code",
   "execution_count": null,
   "id": "075f0fe7",
   "metadata": {},
   "outputs": [],
   "source": [
    "def predict_and_plot_cluster(values, kmeans, scaler, labels, xy, xkmeans, ykmeans, cenlabels):\n",
    "    \"\"\"\n",
    "    Predicts the cluster for a given set of values and visualizes it on the scatter plot.\n",
    "    \"\"\"\n",
    "    # Normalize the input values\n",
    "    values_norm = scaler.transform(values)    \n",
    "    # Predict clusters for the normalized input\n",
    "    predicted_clusters = kmeans.predict(values_norm)   \n",
    "    # Plot original data and centers\n",
    "    colours = plt.cm.Set1(np.linspace(0, 1, len(np.unique(labels))))\n",
    "    cmap = ListedColormap(colours)\n",
    "    fig, ax = plt.subplots(figsize = (8,4),dpi = 144)\n",
    "    s = ax.scatter(xy[:, 0], xy[:, 1], c = labels, cmap = cmap, marker = 'o', label = 'Data')\n",
    "    ax.scatter(xkmeans, ykmeans, c = cenlabels, cmap = cmap, marker = 'x', s = 100, label = 'Estimated Centres')    \n",
    "    # Add the input values to the plot\n",
    "    values_original = scaler.inverse_transform(values_norm)\n",
    "    for (age, sleep, cluster) in zip(values_original[:, 0], values_original[:, 1], predicted_clusters):\n",
    "        ax.scatter(age, sleep, color = colours[cluster], edgecolor = 'black', s = 200, label = f'Predictions')\n",
    "        ax.annotate(f'Cluster {cluster}', (age, sleep), textcoords = \"offset points\", xytext = (0, 10), ha = 'center')    \n",
    "    # Add color bar and labels\n",
    "    cbar = fig.colorbar(s, ax = ax)\n",
    "    cbar.set_ticks(np.unique(labels))\n",
    "    ax.legend(loc = 'lower right')\n",
    "    ax.set_xlabel('Age')\n",
    "    ax.set_ylabel('Sleep Duration')\n",
    "    ax.set_title('K-Means Cluster Prediction', fontsize = 10)\n",
    "    ax.set_xlim([20,80])\n",
    "    plt.show()    \n",
    "    return predicted_clusters"
   ]
  },
  {
   "cell_type": "code",
   "execution_count": null,
   "id": "53e64830",
   "metadata": {},
   "outputs": [],
   "source": [
    "# Example values to predict clusters for\n",
    "input_values = np.array([[25, 8], [43, 6.2], [60, 8], [43,7.7], [25,6]])  \n",
    "# Predict and visualize\n",
    "predicted_clusters = predict_and_plot_cluster(\n",
    "    values = input_values,\n",
    "    kmeans = kmeans,\n",
    "    scaler = scaler,\n",
    "    labels = labels,\n",
    "    xy = inv_norm,\n",
    "    xkmeans = xkmeans,\n",
    "    ykmeans = ykmeans,\n",
    "    cenlabels = cenlabels\n",
    ")\n",
    "print(\"Predicted clusters for the input values:\")\n",
    "for value, cluster in zip(input_values, predicted_clusters):\n",
    "    print(f\"Values: {value}, Cluster: {cluster}\")\n"
   ]
  },
  {
   "cell_type": "code",
   "execution_count": null,
   "id": "7747248d",
   "metadata": {},
   "outputs": [],
   "source": []
  }
 ],
 "metadata": {
  "kernelspec": {
   "display_name": "Python 3 (ipykernel)",
   "language": "python",
   "name": "python3"
  },
  "language_info": {
   "codemirror_mode": {
    "name": "ipython",
    "version": 3
   },
   "file_extension": ".py",
   "mimetype": "text/x-python",
   "name": "python",
   "nbconvert_exporter": "python",
   "pygments_lexer": "ipython3",
   "version": "3.9.13"
  }
 },
 "nbformat": 4,
 "nbformat_minor": 5
}
